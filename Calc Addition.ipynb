{
 "cells": [
  {
   "cell_type": "code",
   "execution_count": 1,
   "metadata": {},
   "outputs": [
    {
     "name": "stdout",
     "output_type": "stream",
     "text": [
      "Enter first number\n",
      "23\n",
      "Enter second number\n",
      "45\n",
      "sum of these numbers is 68\n"
     ]
    }
   ],
   "source": [
    "##### Calculator which only adds ######\n",
    "# this is a calculator\n",
    "print (\"Enter first number\")\n",
    "a1 = input()\n",
    "print (\"Enter second number\")\n",
    "a2 = input()\n",
    "print(\"sum of these numbers is\", int(a1)+int(a2))"
   ]
  },
  {
   "cell_type": "code",
   "execution_count": null,
   "metadata": {},
   "outputs": [],
   "source": []
  }
 ],
 "metadata": {
  "kernelspec": {
   "display_name": "Python 3",
   "language": "python",
   "name": "python3"
  },
  "language_info": {
   "codemirror_mode": {
    "name": "ipython",
    "version": 3
   },
   "file_extension": ".py",
   "mimetype": "text/x-python",
   "name": "python",
   "nbconvert_exporter": "python",
   "pygments_lexer": "ipython3",
   "version": "3.7.4"
  }
 },
 "nbformat": 4,
 "nbformat_minor": 2
}
