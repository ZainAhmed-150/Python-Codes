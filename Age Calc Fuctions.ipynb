{
 "cells": [
  {
   "cell_type": "markdown",
   "metadata": {},
   "source": [
    "\"\"\"Age Calculator for Driving\"\"\"\n"
   ]
  },
  {
   "cell_type": "code",
   "execution_count": null,
   "metadata": {},
   "outputs": [],
   "source": [
    "print(\"what is your age?\")\n",
    "\n",
    "age = int(input())\n",
    "\n",
    "if age<18:\n",
    "    print(\"You cannot drive\")\n",
    "    \n",
    "elif age ==18:\n",
    "    print(\"we will think\")\n",
    "    \n",
    "else:\n",
    "    print(\"you can drive\")"
   ]
  },
  {
   "cell_type": "markdown",
   "metadata": {},
   "source": [
    "\"\"\"Age Calculator for Computer Usage\"\"\"\n"
   ]
  },
  {
   "cell_type": "code",
   "execution_count": null,
   "metadata": {},
   "outputs": [],
   "source": [
    "print(\"who can use a computer?\")\n",
    "\n",
    "age = int(input(\"Enter your Age:\"))\n",
    "\n",
    "if age>5 and age<70:\n",
    "    print(\"Yes\")\n",
    "    \n",
    "elif age == 5:\n",
    "    print(\"Maybe\")\n",
    "    \n",
    "else:\n",
    "    print(\"No\")"
   ]
  }
 ],
 "metadata": {
  "kernelspec": {
   "display_name": "Python 3",
   "language": "python",
   "name": "python3"
  },
  "language_info": {
   "codemirror_mode": {
    "name": "ipython",
    "version": 3
   },
   "file_extension": ".py",
   "mimetype": "text/x-python",
   "name": "python",
   "nbconvert_exporter": "python",
   "pygments_lexer": "ipython3",
   "version": "3.7.4"
  }
 },
 "nbformat": 4,
 "nbformat_minor": 2
}
