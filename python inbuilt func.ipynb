{
 "cells": [
  {
   "cell_type": "code",
   "execution_count": 3,
   "metadata": {},
   "outputs": [
    {
     "name": "stdout",
     "output_type": "stream",
     "text": [
      "[1, 2, 3, 4, 5, 6, 7, 11, 34, 56, 78]\n"
     ]
    }
   ],
   "source": [
    "# .sort will sort the list in the ascending order\n",
    "\n",
    "numbers = [2,3,4,5,6,7,56,78,34,1,11]\n",
    "    \n",
    "numbers.sort()\n",
    "\n",
    "print(numbers)\n"
   ]
  },
  {
   "cell_type": "code",
   "execution_count": 5,
   "metadata": {},
   "outputs": [
    {
     "name": "stdout",
     "output_type": "stream",
     "text": [
      "[1, 2, 3, 4, 5, 6, 7, 11, 34, 56, 78, 45, 45]\n"
     ]
    }
   ],
   "source": [
    "# .append will add the given number at the end\n",
    "\n",
    "numbers.append(45)\n",
    "\n",
    "print(numbers)\n",
    "\n"
   ]
  },
  {
   "cell_type": "code",
   "execution_count": 7,
   "metadata": {},
   "outputs": [
    {
     "name": "stdout",
     "output_type": "stream",
     "text": [
      "[1, 67, 67, 2, 3, 4, 5, 6, 7, 11, 34, 56, 78, 45, 45]\n"
     ]
    }
   ],
   "source": [
    "# .insert will add the number at the given location\n",
    "\n",
    "numbers.insert(1, 67)\n",
    "\n",
    "print(numbers)"
   ]
  },
  {
   "cell_type": "code",
   "execution_count": 8,
   "metadata": {},
   "outputs": [
    {
     "name": "stdout",
     "output_type": "stream",
     "text": [
      "[1, 67, 67, 2, 3, 4, 5, 6, 7, 11, 34, 56, 78, 45]\n"
     ]
    }
   ],
   "source": [
    "# .pop will remove the last number from the list\n",
    "\n",
    "numbers.pop()\n",
    "\n",
    "print(numbers)"
   ]
  },
  {
   "cell_type": "code",
   "execution_count": 9,
   "metadata": {},
   "outputs": [
    {
     "name": "stdout",
     "output_type": "stream",
     "text": [
      "[1, 67, 67, 3, 4, 5, 6, 7, 11, 34, 56, 78, 45]\n"
     ]
    }
   ],
   "source": [
    "# .remove will delete the given number\n",
    "\n",
    "numbers.remove(2)\n",
    "\n",
    "print(numbers)"
   ]
  },
  {
   "cell_type": "code",
   "execution_count": 10,
   "metadata": {},
   "outputs": [
    {
     "name": "stdout",
     "output_type": "stream",
     "text": [
      "98\n"
     ]
    }
   ],
   "source": [
    "numbers[1] = 98\n",
    "\n",
    "print(numbers[1])"
   ]
  },
  {
   "cell_type": "code",
   "execution_count": null,
   "metadata": {},
   "outputs": [],
   "source": [
    "#Immutable - Cannot Change\n",
    "\n",
    "tp = (1,2,3)\n",
    "print(tp)\n",
    "\n",
    "#swapping the numbers\n",
    "a=1\n",
    "b=4\n",
    "a,b = b,a\n",
    "print(a,b)\n"
   ]
  }
 ],
 "metadata": {
  "kernelspec": {
   "display_name": "Python 3",
   "language": "python",
   "name": "python3"
  },
  "language_info": {
   "codemirror_mode": {
    "name": "ipython",
    "version": 3
   },
   "file_extension": ".py",
   "mimetype": "text/x-python",
   "name": "python",
   "nbconvert_exporter": "python",
   "pygments_lexer": "ipython3",
   "version": "3.7.4"
  }
 },
 "nbformat": 4,
 "nbformat_minor": 2
}
