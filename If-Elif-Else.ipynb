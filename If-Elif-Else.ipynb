{
 "cells": [
  {
   "cell_type": "code",
   "execution_count": 1,
   "metadata": {},
   "outputs": [
    {
     "name": "stdout",
     "output_type": "stream",
     "text": [
      "13\n",
      "Lesser\n",
      "No\n"
     ]
    }
   ],
   "source": [
    "\"\"\"Using \"Elif\" & \"If Else\"\"\"\n",
    "\n",
    "var1 = 6\n",
    "var2 = 56\n",
    "var3 = int(input())\n",
    "\n",
    "if var3>var2:\n",
    "    print(\"Greater\")\n",
    "    \n",
    "elif var3==var2:\n",
    "    print(\"Equal\")\n",
    "    \n",
    "else:\n",
    "    print(\"Lesser\")\n",
    "\n",
    "list1 = [5,7,3]\n",
    "\n",
    "if 15 not in list1:\n",
    "     print(\"No\")"
   ]
  },
  {
   "cell_type": "code",
   "execution_count": null,
   "metadata": {},
   "outputs": [],
   "source": []
  }
 ],
 "metadata": {
  "kernelspec": {
   "display_name": "Python 3",
   "language": "python",
   "name": "python3"
  },
  "language_info": {
   "codemirror_mode": {
    "name": "ipython",
    "version": 3
   },
   "file_extension": ".py",
   "mimetype": "text/x-python",
   "name": "python",
   "nbconvert_exporter": "python",
   "pygments_lexer": "ipython3",
   "version": "3.7.4"
  }
 },
 "nbformat": 4,
 "nbformat_minor": 2
}
