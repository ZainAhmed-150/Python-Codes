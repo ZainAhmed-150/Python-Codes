{
 "cells": [
  {
   "cell_type": "markdown",
   "metadata": {},
   "source": [
    "\"\"\" Creating a Dictionary with 5 words \"\"\""
   ]
  },
  {
   "cell_type": "code",
   "execution_count": null,
   "metadata": {},
   "outputs": [],
   "source": [
    "# Procedure #1\n",
    "\n",
    "D = {\"k\": \"Kite\", \"b\": \"Bruce\", \"x\": \"Xander\", \"t\": \"Tina\"}\n",
    "\n",
    "print(\"Init\")\n",
    "\n",
    "print(D[input(\"Init\")])"
   ]
  },
  {
   "cell_type": "code",
   "execution_count": null,
   "metadata": {},
   "outputs": [],
   "source": [
    "#Procedure #2\n",
    " \n",
    "keys = {\"footwear\", \"shirt\", \"bag\"}\n",
    "\n",
    "Val = {\"something to wear on your feet\", \"Clothes\", \"to carry your things\"}\n",
    "\n",
    "Dict = dict.fromkeys(keys, Val)\n",
    "\n",
    "print(Dict)\n",
    "\n",
    "print(Dict[input()])"
   ]
  },
  {
   "cell_type": "code",
   "execution_count": null,
   "metadata": {},
   "outputs": [],
   "source": []
  }
 ],
 "metadata": {
  "kernelspec": {
   "display_name": "Python 3",
   "language": "python",
   "name": "python3"
  },
  "language_info": {
   "codemirror_mode": {
    "name": "ipython",
    "version": 3
   },
   "file_extension": ".py",
   "mimetype": "text/x-python",
   "name": "python",
   "nbconvert_exporter": "python",
   "pygments_lexer": "ipython3",
   "version": "3.7.4"
  }
 },
 "nbformat": 4,
 "nbformat_minor": 2
}
